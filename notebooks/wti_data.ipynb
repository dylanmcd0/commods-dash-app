{
 "cells": [
  {
   "cell_type": "code",
   "execution_count": 107,
   "metadata": {},
   "outputs": [],
   "source": [
    "import pandas as pd\n",
    "import numpy as np\n",
    "import yfinance as yf\n",
    "import os\n",
    "import json\n",
    "import requests\n",
    "from statsmodels.tsa.arima.model import ARIMA\n",
    "from pmdarima import auto_arima\n",
    "import matplotlib.pyplot as plt\n",
    "from dotenv import load_dotenv\n",
    "\n",
    "import warnings\n",
    "warnings.simplefilter(action='ignore', category=FutureWarning)\n",
    "\n",
    "load_dotenv()\n",
    "\n",
    "# Create necessary directories\n",
    "DATA_DIR = \"data\"\n",
    "MODEL_OUTPUT_DIR = \"model_outputs\"\n",
    "os.makedirs(DATA_DIR, exist_ok=True)\n",
    "os.makedirs(MODEL_OUTPUT_DIR, exist_ok=True)"
   ]
  },
  {
   "cell_type": "code",
   "execution_count": 128,
   "metadata": {},
   "outputs": [],
   "source": [
    "\n",
    "eia_api_key = os.getenv(\"EIA_API_KEY\")\n",
    "eia_url = f\"https://api.eia.gov/v2/petroleum/stoc/wstk/data/?api_key={eia_api_key}&frequency=monthly&data[0]=value\"\n",
    "\n",
    "response = requests.get(eia_url)\n",
    "\n",
    "if response.status_code == 200:\n",
    "    data = response.json()\n",
    "\n",
    "    # Extract relevant time series\n",
    "    inventory_data = [\n",
    "        [entry[\"period\"], entry[\"value\"]] for entry in data[\"response\"][\"data\"]\n",
    "    ]\n",
    "    inventory_df = pd.DataFrame(inventory_data, columns=[\"Date\", \"Crude_Inventory\"])\n",
    "\n",
    "    inventory_df[\"Date\"] = pd.to_datetime(inventory_df[\"Date\"])\n",
    "    inventory_df.set_index(\"Date\", inplace=True)"
   ]
  },
  {
   "cell_type": "code",
   "execution_count": 127,
   "metadata": {},
   "outputs": [
    {
     "data": {
      "text/html": [
       "<div>\n",
       "<style scoped>\n",
       "    .dataframe tbody tr th:only-of-type {\n",
       "        vertical-align: middle;\n",
       "    }\n",
       "\n",
       "    .dataframe tbody tr th {\n",
       "        vertical-align: top;\n",
       "    }\n",
       "\n",
       "    .dataframe thead th {\n",
       "        text-align: right;\n",
       "    }\n",
       "</style>\n",
       "<table border=\"1\" class=\"dataframe\">\n",
       "  <thead>\n",
       "    <tr style=\"text-align: right;\">\n",
       "      <th></th>\n",
       "      <th>Crude_Inventory</th>\n",
       "    </tr>\n",
       "    <tr>\n",
       "      <th>Date</th>\n",
       "      <th></th>\n",
       "    </tr>\n",
       "  </thead>\n",
       "  <tbody>\n",
       "    <tr>\n",
       "      <th>1990-07-20</th>\n",
       "      <td>12958</td>\n",
       "    </tr>\n",
       "    <tr>\n",
       "      <th>1991-01-18</th>\n",
       "      <td>12572</td>\n",
       "    </tr>\n",
       "    <tr>\n",
       "      <th>1991-03-22</th>\n",
       "      <td>13016</td>\n",
       "    </tr>\n",
       "    <tr>\n",
       "      <th>1991-04-26</th>\n",
       "      <td>13848</td>\n",
       "    </tr>\n",
       "    <tr>\n",
       "      <th>1991-11-08</th>\n",
       "      <td>12097</td>\n",
       "    </tr>\n",
       "    <tr>\n",
       "      <th>...</th>\n",
       "      <td>...</td>\n",
       "    </tr>\n",
       "    <tr>\n",
       "      <th>2020-07-31</th>\n",
       "      <td>330</td>\n",
       "    </tr>\n",
       "    <tr>\n",
       "      <th>2020-11-06</th>\n",
       "      <td>274</td>\n",
       "    </tr>\n",
       "    <tr>\n",
       "      <th>2021-01-15</th>\n",
       "      <td>293</td>\n",
       "    </tr>\n",
       "    <tr>\n",
       "      <th>2021-04-30</th>\n",
       "      <td>193</td>\n",
       "    </tr>\n",
       "    <tr>\n",
       "      <th>2021-05-28</th>\n",
       "      <td>174</td>\n",
       "    </tr>\n",
       "  </tbody>\n",
       "</table>\n",
       "<p>5000 rows × 1 columns</p>\n",
       "</div>"
      ],
      "text/plain": [
       "           Crude_Inventory\n",
       "Date                      \n",
       "1990-07-20           12958\n",
       "1991-01-18           12572\n",
       "1991-03-22           13016\n",
       "1991-04-26           13848\n",
       "1991-11-08           12097\n",
       "...                    ...\n",
       "2020-07-31             330\n",
       "2020-11-06             274\n",
       "2021-01-15             293\n",
       "2021-04-30             193\n",
       "2021-05-28             174\n",
       "\n",
       "[5000 rows x 1 columns]"
      ]
     },
     "execution_count": 127,
     "metadata": {},
     "output_type": "execute_result"
    }
   ],
   "source": [
    "inventory_df"
   ]
  },
  {
   "cell_type": "code",
   "execution_count": 136,
   "metadata": {},
   "outputs": [],
   "source": [
    "import requests\n",
    "import os\n",
    "import pandas as pd\n",
    "\n",
    "def fetch_eia_crude_inventory():\n",
    "    eia_api_key = os.getenv(\"EIA_API_KEY\")\n",
    "\n",
    "    # 🔥 Updated API URL (ensuring it fetches recent data)\n",
    "    eia_url = f\"https://api.eia.gov/v2/petroleum/stoc/wstk/data/?api_key={eia_api_key}&frequency=weekly&data[0]=value&start=2000-01-01\"\n",
    "\n",
    "    response = requests.get(eia_url)\n",
    "\n",
    "    if response.status_code == 200:\n",
    "        data = response.json()\n",
    "\n",
    "        # Extract relevant time series\n",
    "        inventory_data = [\n",
    "            [entry[\"period\"], entry[\"value\"]] for entry in data[\"response\"][\"data\"]\n",
    "        ]\n",
    "        inventory_df = pd.DataFrame(inventory_data, columns=[\"Date\", \"Crude_Inventory\"])\n",
    "\n",
    "        # Convert Date column to datetime\n",
    "        inventory_df[\"Date\"] = pd.to_datetime(inventory_df[\"Date\"])\n",
    "        inventory_df.set_index(\"Date\", inplace=True)\n",
    "\n",
    "        inventory_df = inventory_df[~inventory_df.index.duplicated(keep=\"last\")]\n",
    "\n",
    "        inventory_df = inventory_df.sort_index()\n",
    "\n",
    "        return inventory_df\n",
    "    else:\n",
    "        print(f\"Error fetching data: {response.json()}\")\n",
    "        return None\n",
    "\n"
   ]
  },
  {
   "cell_type": "code",
   "execution_count": 138,
   "metadata": {},
   "outputs": [],
   "source": [
    "data = fetch_eia_crude_inventory()"
   ]
  },
  {
   "cell_type": "code",
   "execution_count": 139,
   "metadata": {},
   "outputs": [
    {
     "data": {
      "text/html": [
       "<div>\n",
       "<style scoped>\n",
       "    .dataframe tbody tr th:only-of-type {\n",
       "        vertical-align: middle;\n",
       "    }\n",
       "\n",
       "    .dataframe tbody tr th {\n",
       "        vertical-align: top;\n",
       "    }\n",
       "\n",
       "    .dataframe thead th {\n",
       "        text-align: right;\n",
       "    }\n",
       "</style>\n",
       "<table border=\"1\" class=\"dataframe\">\n",
       "  <thead>\n",
       "    <tr style=\"text-align: right;\">\n",
       "      <th></th>\n",
       "      <th>Crude_Inventory</th>\n",
       "    </tr>\n",
       "    <tr>\n",
       "      <th>Date</th>\n",
       "      <th></th>\n",
       "    </tr>\n",
       "  </thead>\n",
       "  <tbody>\n",
       "    <tr>\n",
       "      <th>2025-01-17</th>\n",
       "      <td>0</td>\n",
       "    </tr>\n",
       "    <tr>\n",
       "      <th>2025-01-24</th>\n",
       "      <td>32499</td>\n",
       "    </tr>\n",
       "    <tr>\n",
       "      <th>2025-01-31</th>\n",
       "      <td>31587</td>\n",
       "    </tr>\n",
       "    <tr>\n",
       "      <th>2025-02-07</th>\n",
       "      <td>0</td>\n",
       "    </tr>\n",
       "    <tr>\n",
       "      <th>2025-02-14</th>\n",
       "      <td>25</td>\n",
       "    </tr>\n",
       "  </tbody>\n",
       "</table>\n",
       "</div>"
      ],
      "text/plain": [
       "           Crude_Inventory\n",
       "Date                      \n",
       "2025-01-17               0\n",
       "2025-01-24           32499\n",
       "2025-01-31           31587\n",
       "2025-02-07               0\n",
       "2025-02-14              25"
      ]
     },
     "execution_count": 139,
     "metadata": {},
     "output_type": "execute_result"
    }
   ],
   "source": [
    "data.tail()"
   ]
  },
  {
   "cell_type": "code",
   "execution_count": 203,
   "metadata": {},
   "outputs": [],
   "source": [
    "def fetch_data():\n",
    "    ticker = \"CL=F\"  # WTI Crude Oil Futures\n",
    "    df = yf.download(ticker, start=\"2000-01-01\", end=\"2025-01-01\")\n",
    "    df = df[['Close']].rename(columns={'Close': 'WTI_Price'})\n",
    "    \n",
    "    # Fetch U.S. Dollar Index (DXY)\n",
    "    # dxy = yf.download(\"DX-Y.NYB\", start=\"2000-01-01\", end=\"2025-01-01\")[['Close']]\n",
    "    # dxy.rename(columns={\"Close\": \"DXY\"}, inplace=True)\n",
    "\n",
    "    # Fetch Crude Inventory using new EIA API\n",
    "    # inventory_df = fetch_eia_crude_inventory()\n",
    "    \n",
    "    # Merge datasets\n",
    "    df.index.name = \"Date\"\n",
    "    # merged_df = df.join([dxy], how=\"left\")\n",
    "    # merged_df.to_csv(os.path.join(DATA_DIR, \"oil_data_with_features.csv\"))\n",
    "    \n",
    "    return df"
   ]
  },
  {
   "cell_type": "code",
   "execution_count": 204,
   "metadata": {},
   "outputs": [
    {
     "name": "stderr",
     "output_type": "stream",
     "text": [
      "[*********************100%***********************]  1 of 1 completed\n"
     ]
    }
   ],
   "source": [
    "data = fetch_data()"
   ]
  },
  {
   "cell_type": "code",
   "execution_count": 209,
   "metadata": {},
   "outputs": [],
   "source": [
    "def preprocess_data():\n",
    "    df = pd.read_csv(os.path.join(DATA_DIR, \"oil_data_with_features.csv\"), skiprows=2, parse_dates=[\"Date\"], index_col=\"Date\")\n",
    "    \n",
    "    # Ensure column names are correct\n",
    "    df = df.rename(columns={\"Unnamed: 1\":\"WTI_Price\", \"Unnamed: 2\":\"DXY\"})\n",
    "    df.columns = [col.strip() for col in df.columns]\n",
    "\n",
    "    df.fillna(method=\"ffill\", inplace=True)\n",
    "    df = df.asfreq('B')  # Ensure business day frequency\n",
    "    df.dropna(inplace=True)\n",
    "    \n",
    "    return df\n",
    "\n",
    "def train_arima_model(df):\n",
    "    df = df.asfreq('B')  # Ensure business day frequency\n",
    "    \n",
    "    y = df[\"WTI_Price\"].dropna()  # Target variable (oil price)\n",
    "    \n",
    "    # Infer frequency instead of setting it manually to avoid ValueError\n",
    "    y.index = pd.DatetimeIndex(y.index).to_period('B')\n",
    "    y_diff = y.diff().dropna()\n",
    "    \n",
    "    model = auto_arima(y_diff, seasonal=False, stepwise=True, trace=True, suppress_warnings=True)\n",
    "    best_order = model.order\n",
    "    print(f\"Best ARIMA Order: {best_order}\")\n",
    "    \n",
    "    # Fit ARIMA Model\n",
    "    arima_model = ARIMA(y, order=best_order).fit()\n",
    "    arima_model.save(os.path.join(MODEL_OUTPUT_DIR, \"arima_model.pkl\"))\n",
    "    \n",
    "    return arima_model\n",
    "\n",
    "def forecast_prices(model, df, steps=30):\n",
    "    # Forecast future prices\n",
    "    forecast = model.forecast(steps=steps)\n",
    "    forecast_dates = pd.date_range(df.index[-1], periods=steps+1, freq='B')[1:]\n",
    "    forecast_df = pd.DataFrame({'Date': forecast_dates, 'Forecasted_Price': forecast})\n",
    "    forecast_df.set_index(\"Date\", inplace=True)\n",
    "    forecast_df.to_csv(os.path.join(MODEL_OUTPUT_DIR, \"forecast_prices.csv\"))\n",
    "    return forecast_df\n"
   ]
  },
  {
   "cell_type": "code",
   "execution_count": 210,
   "metadata": {},
   "outputs": [
    {
     "name": "stdout",
     "output_type": "stream",
     "text": [
      "Preprocessing data...\n"
     ]
    }
   ],
   "source": [
    "print(\"Preprocessing data...\")\n",
    "processed_data = preprocess_data()"
   ]
  },
  {
   "cell_type": "code",
   "execution_count": 211,
   "metadata": {},
   "outputs": [
    {
     "name": "stdout",
     "output_type": "stream",
     "text": [
      "Training ARIMA model...\n",
      "Performing stepwise search to minimize aic\n",
      " ARIMA(2,0,2)(0,0,0)[0]             : AIC=24414.494, Time=0.55 sec\n",
      " ARIMA(0,0,0)(0,0,0)[0]             : AIC=24553.519, Time=0.02 sec\n",
      " ARIMA(1,0,0)(0,0,0)[0]             : AIC=24429.467, Time=0.03 sec\n",
      " ARIMA(0,0,1)(0,0,0)[0]             : AIC=24417.869, Time=0.07 sec\n",
      " ARIMA(1,0,2)(0,0,0)[0]             : AIC=24414.813, Time=0.45 sec\n",
      " ARIMA(2,0,1)(0,0,0)[0]             : AIC=24414.812, Time=0.33 sec\n",
      " ARIMA(3,0,2)(0,0,0)[0]             : AIC=24415.519, Time=0.68 sec\n",
      " ARIMA(2,0,3)(0,0,0)[0]             : AIC=24415.245, Time=0.65 sec\n",
      " ARIMA(1,0,1)(0,0,0)[0]             : AIC=24412.846, Time=0.15 sec\n",
      " ARIMA(0,0,2)(0,0,0)[0]             : AIC=24413.401, Time=0.12 sec\n",
      " ARIMA(2,0,0)(0,0,0)[0]             : AIC=24416.028, Time=0.10 sec\n",
      " ARIMA(1,0,1)(0,0,0)[0] intercept   : AIC=24414.722, Time=0.31 sec\n",
      "\n",
      "Best model:  ARIMA(1,0,1)(0,0,0)[0]          \n",
      "Total fit time: 3.466 seconds\n",
      "Best ARIMA Order: (1, 0, 1)\n"
     ]
    }
   ],
   "source": [
    "print(\"Training ARIMA model...\")\n",
    "arima_model = train_arima_model(processed_data)"
   ]
  },
  {
   "cell_type": "code",
   "execution_count": 212,
   "metadata": {},
   "outputs": [
    {
     "name": "stdout",
     "output_type": "stream",
     "text": [
      "Forecasting future prices...\n",
      "            Forecasted_Price\n",
      "Date                        \n",
      "2025-01-01         71.578132\n",
      "2025-01-02         71.564552\n",
      "2025-01-03         71.550998\n",
      "2025-01-06         71.537470\n",
      "2025-01-07         71.523969\n"
     ]
    }
   ],
   "source": [
    "print(\"Forecasting future prices...\")\n",
    "forecast_data = forecast_prices(arima_model, processed_data)\n",
    "print(forecast_data.head())\n"
   ]
  }
 ],
 "metadata": {
  "kernelspec": {
   "display_name": "venv",
   "language": "python",
   "name": "python3"
  },
  "language_info": {
   "codemirror_mode": {
    "name": "ipython",
    "version": 3
   },
   "file_extension": ".py",
   "mimetype": "text/x-python",
   "name": "python",
   "nbconvert_exporter": "python",
   "pygments_lexer": "ipython3",
   "version": "3.12.4"
  }
 },
 "nbformat": 4,
 "nbformat_minor": 2
}
